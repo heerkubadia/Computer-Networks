{
 "cells": [
  {
   "cell_type": "markdown",
   "metadata": {},
   "source": [
    "## 1. Metrics and Plots"
   ]
  },
  {
   "cell_type": "markdown",
   "metadata": {},
   "source": [
    "### Analysing the pcap file:\n"
   ]
  },
  {
   "cell_type": "markdown",
   "metadata": {},
   "source": [
    "Total amount of data transferred (in bytes)\n",
    "\n",
    "Total number of packets transferred\n",
    "\n",
    "Minimum, maximum, and average packet sizes"
   ]
  },
  {
   "cell_type": "code",
   "execution_count": 1,
   "metadata": {},
   "outputs": [
    {
     "name": "stderr",
     "output_type": "stream",
     "text": [
      "100%|██████████| 792184/792184 [00:10<00:00, 75325.05it/s]\n"
     ]
    },
    {
     "name": "stdout",
     "output_type": "stream",
     "text": [
      "Total data transferred: 355624564 bytes\n",
      "Total number of packets: 792184\n",
      "Min Packet Size: 42 bytes\n",
      "Max Packet Size: 1514 bytes\n",
      "Avg Packet Size: 448.92 bytes\n"
     ]
    }
   ],
   "source": [
    "from scapy.all import rdpcap\n",
    "from tqdm import tqdm\n",
    "\n",
    "packets = rdpcap(\"final_captured.pcap\")\n",
    "total_data = 0\n",
    "total_packets = len(packets)\n",
    "packet_sizes = []\n",
    "\n",
    "for packet in tqdm(packets):\n",
    "    packet_sizes.append(len(packet))\n",
    "    total_data += len(packet)\n",
    "\n",
    "min_size = min(packet_sizes)\n",
    "max_size = max(packet_sizes)\n",
    "avg_size = total_data / total_packets\n",
    "\n",
    "print(f\"Total data transferred: {total_data} bytes\")\n",
    "print(f\"Total number of packets: {total_packets}\")\n",
    "print(f\"Min Packet Size: {min_size} bytes\")\n",
    "print(f\"Max Packet Size: {max_size} bytes\")\n",
    "print(f\"Avg Packet Size: {avg_size:.2f} bytes\")"
   ]
  },
  {
   "cell_type": "code",
   "execution_count": 1,
   "metadata": {},
   "outputs": [
    {
     "name": "stdout",
     "output_type": "stream",
     "text": [
      "Total data transferred: 355624326 bytes\n",
      "Total number of packets: 792179\n",
      "Min Packet Size: 54 bytes\n",
      "Max Packet Size: 1514 bytes\n",
      "Avg Packet Size: 448.92 bytes\n"
     ]
    }
   ],
   "source": [
    "# analysis on original pcap file\n",
    "from scapy.all import rdpcap\n",
    "\n",
    "packets = rdpcap(\"4.pcap\")\n",
    "total_data = 0\n",
    "total_packets = len(packets)\n",
    "packet_sizes = []\n",
    "\n",
    "for packet in packets:\n",
    "    packet_sizes.append(len(packet))\n",
    "    total_data += len(packet)\n",
    "\n",
    "min_size = min(packet_sizes)\n",
    "max_size = max(packet_sizes)\n",
    "avg_size = total_data / total_packets\n",
    "\n",
    "print(f\"Total data transferred: {total_data} bytes\")\n",
    "print(f\"Total number of packets: {total_packets}\")\n",
    "print(f\"Min Packet Size: {min_size} bytes\")\n",
    "print(f\"Max Packet Size: {max_size} bytes\")\n",
    "print(f\"Avg Packet Size: {avg_size:.2f} bytes\")"
   ]
  },
  {
   "cell_type": "markdown",
   "metadata": {},
   "source": [
    "Distribution of packet sizes"
   ]
  },
  {
   "cell_type": "code",
   "execution_count": 4,
   "metadata": {},
   "outputs": [
    {
     "data": {
      "image/png": "[encoded data removed]",
      "text/plain": [
       "<Figure size 640x480 with 1 Axes>"
      ]
     },
     "metadata": {},
     "output_type": "display_data"
    }
   ],
   "source": [
    "import matplotlib.pyplot as plt\n",
    "from scapy.all import rdpcap\n",
    "\n",
    "bin_width = 50\n",
    "plt.hist(packet_sizes, bins=range(min(packet_sizes), max(packet_sizes) + bin_width, bin_width), color='lightblue', edgecolor='black')\n",
    "plt.title('Packet Size Distribution')\n",
    "plt.xlabel('Packet Size (bytes)')\n",
    "plt.ylabel('Frequency')\n",
    "plt.show()\n"
   ]
  },
  {
   "cell_type": "markdown",
   "metadata": {},
   "source": [
    "### Identify Unique Source-Destination Pairs (source IP:port and destination IP:port) in the captured data\n"
   ]
  },
  {
   "cell_type": "code",
   "execution_count": null,
   "metadata": {},
   "outputs": [],
   "source": [
    "from scapy.all import rdpcap, IP, TCP, UDP\n",
    "from collections import defaultdict\n",
    "from tqdm import tqdm  \n",
    "\n",
    "unique_pairs = defaultdict(int)\n",
    "\n",
    "for packet in tqdm(packets):\n",
    "    if packet.haslayer(IP):  \n",
    "        src_ip = packet[IP].src\n",
    "        dst_ip = packet[IP].dst\n",
    "        src_port, dst_port = None, None  \n",
    "\n",
    "        if packet.haslayer(TCP):\n",
    "            src_port = packet[TCP].sport\n",
    "            dst_port = packet[TCP].dport\n",
    "        elif packet.haslayer(UDP):\n",
    "            src_port = packet[UDP].sport\n",
    "            dst_port = packet[UDP].dport\n",
    "\n",
    "        if src_port is not None and dst_port is not None:  \n",
    "            unique_pairs[(f\"{src_ip}:{src_port}\", f\"{dst_ip}:{dst_port}\")] += len(packet)\n",
    "\n",
    "for pair, total_size in unique_pairs.items():\n",
    "    print(f\"{pair}: {total_size} bytes\")\n"
   ]
  },
  {
   "cell_type": "markdown",
   "metadata": {},
   "source": [
    "### Flow Analysis\n"
   ]
  },
  {
   "cell_type": "markdown",
   "metadata": {},
   "source": [
    "Key: IP Address; Value: Total flows originating from that IP (as source).\n",
    "\n",
    "Key: IP Address; Value: Total flows terminating at that IP (as destination)."
   ]
  },
  {
   "cell_type": "code",
   "execution_count": null,
   "metadata": {},
   "outputs": [],
   "source": [
    "from scapy.all import rdpcap\n",
    "\n",
    "src_flows = {}\n",
    "dst_flows = {}\n",
    "\n",
    "# Analyze packet flows\n",
    "for packet in packets:\n",
    "    if packet.haslayer(IP):\n",
    "        src_ip = packet[IP].src\n",
    "        dst_ip = packet[IP].dst\n",
    "        if src_ip not in src_flows:\n",
    "            src_flows[src_ip] = 0\n",
    "        if dst_ip not in dst_flows:\n",
    "            dst_flows[dst_ip] = 0\n",
    "        src_flows[src_ip] += 1\n",
    "        dst_flows[dst_ip] += 1\n",
    "\n",
    "print(\"Source Flows:\")\n",
    "for ip, flow in src_flows.items():\n",
    "    print(f\"{ip}: {flow} flows originating\")\n",
    "    \n",
    "print(\"\\nDestination Flows:\")\n",
    "for ip, flow in dst_flows.items():\n",
    "    print(f\"{ip}: {flow} flows terminating\")\n"
   ]
  },
  {
   "cell_type": "markdown",
   "metadata": {},
   "source": [
    "Find which source-destination pair has transferred the most data"
   ]
  },
  {
   "cell_type": "code",
   "execution_count": 12,
   "metadata": {},
   "outputs": [
    {
     "name": "stdout",
     "output_type": "stream",
     "text": [
      "Source-Destination pair with most data: ('172.16.133.95:49358', '157.56.240.102:443') with 17342229 bytes\n"
     ]
    }
   ],
   "source": [
    "max_pair = max(unique_pairs, key=unique_pairs.get)  # Find key with max value\n",
    "max_data = unique_pairs[max_pair]\n",
    "print(f\"Source-Destination pair with most data: {max_pair} with {max_data} bytes\")\n"
   ]
  },
  {
   "cell_type": "markdown",
   "metadata": {},
   "source": [
    "## 2. Hiding a Message in TCP Packet Payload"
   ]
  },
  {
   "cell_type": "markdown",
   "metadata": {},
   "source": [
    "Extracting the hidden message"
   ]
  },
  {
   "cell_type": "code",
   "execution_count": 13,
   "metadata": {},
   "outputs": [],
   "source": [
    "from scapy.all import rdpcap, TCP\n",
    "\n",
    "# Filtering packets with source port 1579\n",
    "filtered_packets = [pkt for pkt in packets if pkt.haslayer(TCP) and pkt[TCP].sport == 1579]\n",
    "\n",
    "# Extract hidden messages\n",
    "hidden_messages = []\n",
    "packet_count = 0\n",
    "protocols = set()\n",
    "checksum_values = []\n",
    "\n",
    "for pkt in filtered_packets:\n",
    "    if pkt.haslayer(TCP) and pkt[TCP].payload:\n",
    "        payload = bytes(pkt[TCP].payload).decode(errors=\"ignore\")\n",
    "        \n",
    "        if \"CS331\" in payload:\n",
    "            hidden_messages.append(payload)\n",
    "            packet_count += 1\n",
    "            protocols.add(pkt.payload.name)  \n",
    "            checksum_values.append(pkt[TCP].chksum)  # Store TCP checksum"
   ]
  },
  {
   "cell_type": "code",
   "execution_count": 14,
   "metadata": {},
   "outputs": [
    {
     "name": "stdout",
     "output_type": "stream",
     "text": [
      "Hidden Messages Extracted:\n",
      "Welcome to Computer Networks CS331\n",
      "Welcome to Computer Networks CS331\n",
      "Welcome to Computer Networks CS331\n",
      "Welcome to Computer Networks CS331\n",
      "Welcome to Computer Networks CS331\n",
      "Welcome to Computer Networks CS331\n",
      "Welcome to Computer Networks CS331\n",
      "Welcome to Computer Networks CS331\n",
      "Welcome to Computer Networks CS331\n",
      "Welcome to Computer Networks CS331\n",
      "Welcome to Computer Networks CS331\n"
     ]
    }
   ],
   "source": [
    "print(\"Hidden Messages Extracted:\")\n",
    "for msg in hidden_messages:\n",
    "    print(msg)"
   ]
  },
  {
   "cell_type": "markdown",
   "metadata": {},
   "source": [
    "Number of messages with hidden messages"
   ]
  },
  {
   "cell_type": "code",
   "execution_count": 15,
   "metadata": {},
   "outputs": [
    {
     "name": "stdout",
     "output_type": "stream",
     "text": [
      "Number of Packets Containing Hidden Message: 11\n"
     ]
    }
   ],
   "source": [
    "print(\"Number of Packets Containing Hidden Message:\", packet_count)"
   ]
  },
  {
   "cell_type": "markdown",
   "metadata": {},
   "source": [
    "Protocol used to transmit the packet containing the hidden message"
   ]
  },
  {
   "cell_type": "code",
   "execution_count": 16,
   "metadata": {},
   "outputs": [
    {
     "name": "stdout",
     "output_type": "stream",
     "text": [
      "Ethernet → IP → TCP → Raw\n",
      "Ethernet → IP → TCP → Raw\n",
      "Ethernet → IP → TCP → Raw\n",
      "Ethernet → IP → TCP → Raw\n",
      "Ethernet → IP → TCP → Raw\n",
      "Ethernet → IP → TCP → Raw\n",
      "Ethernet → IP → TCP → Raw\n",
      "Ethernet → IP → TCP → Raw\n",
      "Ethernet → IP → TCP → Raw\n",
      "Ethernet → IP → TCP → Raw\n",
      "Ethernet → IP → TCP → Raw\n",
      "Ethernet → IP → TCP → Raw\n",
      "Ethernet → IP → TCP → Raw\n",
      "Ethernet → IP → TCP → Raw\n",
      "Ethernet → IP → TCP → Raw\n",
      "Ethernet → IP → TCP → Raw\n",
      "Ethernet → IP → TCP → Raw\n",
      "Ethernet → IP → TCP → Raw\n",
      "Ethernet → IP → TCP → Raw\n",
      "Ethernet → IP → TCP → Raw\n",
      "Ethernet → IP → TCP → Raw\n",
      "Ethernet → IP → TCP → Raw\n",
      "Ethernet → IP → TCP → Raw\n",
      "Ethernet → IP → TCP → Raw\n",
      "Ethernet → IP → TCP → Raw\n",
      "Ethernet → IP → TCP → Raw\n",
      "Ethernet → IP → TCP → Raw\n",
      "Ethernet → IP → TCP → Raw\n",
      "Ethernet → IP → TCP → Raw\n",
      "Ethernet → IP → TCP → Raw\n",
      "Ethernet → IP → TCP → Raw\n",
      "Ethernet → IP → TCP → Raw\n",
      "Ethernet → IP → TCP → Raw\n",
      "Ethernet → IP → TCP → Raw\n",
      "Ethernet → IP → TCP → Raw\n"
     ]
    }
   ],
   "source": [
    "#Printing the protocols used at each level in the filtered packets\n",
    "for pkt in filtered_packets: \n",
    "    layers = []\n",
    "    layer = pkt\n",
    "    while layer:\n",
    "        layers.append(layer.name)\n",
    "        layer = layer.payload\n",
    "    print(\" → \".join(layers))"
   ]
  },
  {
   "cell_type": "code",
   "execution_count": 17,
   "metadata": {},
   "outputs": [
    {
     "name": "stdout",
     "output_type": "stream",
     "text": [
      "Protocol Used: ['IP']\n"
     ]
    }
   ],
   "source": [
    "print(\"Protocol Used:\", list(protocols))"
   ]
  },
  {
   "cell_type": "markdown",
   "metadata": {},
   "source": [
    "Checksum of the TCP segment containing the hidden message"
   ]
  },
  {
   "cell_type": "code",
   "execution_count": 18,
   "metadata": {},
   "outputs": [
    {
     "name": "stdout",
     "output_type": "stream",
     "text": [
      "TCP Checksum of Relevant Packets: [547, 755, 908, 703, 958, 599, 651, 858, 443, 807, 495]\n"
     ]
    }
   ],
   "source": [
    "print(\"TCP Checksum of Relevant Packets:\", checksum_values)"
   ]
  }
 ],
 "metadata": {
  "kernelspec": {
   "display_name": "Python 3",
   "language": "python",
   "name": "python3"
  },
  "language_info": {
   "codemirror_mode": {
    "name": "ipython",
    "version": 3
   },
   "file_extension": ".py",
   "mimetype": "text/x-python",
   "name": "python",
   "nbconvert_exporter": "python",
   "pygments_lexer": "ipython3",
   "version": "3.13.1"
  }
 },
 "nbformat": 4,
 "nbformat_minor": 2
}
